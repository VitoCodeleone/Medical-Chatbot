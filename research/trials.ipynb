{
 "cells": [
  {
   "cell_type": "code",
   "execution_count": 1,
   "metadata": {},
   "outputs": [
    {
     "name": "stdout",
     "output_type": "stream",
     "text": [
      "OK\n"
     ]
    }
   ],
   "source": [
    "print(\"OK\")"
   ]
  },
  {
   "cell_type": "code",
   "execution_count": 37,
   "metadata": {},
   "outputs": [],
   "source": [
    "from langchain import PromptTemplate\n",
    "from langchain.chains import RetrievalQA\n",
    "from langchain.embeddings import HuggingFaceEmbeddings\n",
    "from langchain.vectorstores import Pinecone\n",
    "import pinecone\n",
    "from langchain.document_loaders import PyPDFLoader, DirectoryLoader\n",
    "from langchain.text_splitter import RecursiveCharacterTextSplitter\n",
    "from langchain.prompts import PromptTemplate\n",
    "from langchain import hub"
   ]
  },
  {
   "cell_type": "code",
   "execution_count": 38,
   "metadata": {},
   "outputs": [],
   "source": [
    "from dotenv import load_dotenv\n",
    "import os\n",
    "\n",
    "load_dotenv()\n",
    "PINECONE_API_KEY = os.getenv('PINECONE_API_KEY')\n",
    "HF_TOKEN = os.getenv('HF_TOKEN')\n",
    "HUGGINGFACEHUB_API_TOKEN = os.getenv('HUGGINGFACEHUB_API_TOKEN')"
   ]
  },
  {
   "cell_type": "code",
   "execution_count": 5,
   "metadata": {},
   "outputs": [],
   "source": [
    "def load_pdf(data):\n",
    "    loader = DirectoryLoader(data, glob = \"*.pdf\", loader_cls = PyPDFLoader)\n",
    "\n",
    "    document = loader.load()\n",
    "    return document"
   ]
  },
  {
   "cell_type": "code",
   "execution_count": 7,
   "metadata": {},
   "outputs": [],
   "source": [
    "extracted_data = load_pdf(\"../data/\")"
   ]
  },
  {
   "cell_type": "markdown",
   "metadata": {},
   "source": [
    "### Create text chunks"
   ]
  },
  {
   "cell_type": "code",
   "execution_count": 8,
   "metadata": {},
   "outputs": [],
   "source": [
    "def text_split(extracted_data):\n",
    "    text_splitter = RecursiveCharacterTextSplitter(chunk_size = 500, chunk_overlap = 20)\n",
    "    text_chunks = text_splitter.split_documents(extracted_data)\n",
    "    return text_chunks"
   ]
  },
  {
   "cell_type": "code",
   "execution_count": 9,
   "metadata": {},
   "outputs": [],
   "source": [
    "text_chunks = text_split(extracted_data)"
   ]
  },
  {
   "cell_type": "markdown",
   "metadata": {},
   "source": [
    "### Embedding text chunks"
   ]
  },
  {
   "cell_type": "code",
   "execution_count": 15,
   "metadata": {},
   "outputs": [],
   "source": [
    "def download_hf_embeddings():\n",
    "    embeddings = HuggingFaceEmbeddings(model_name = \"sentence-transformers/all-MiniLM-L6-v2\")\n",
    "    return embeddings"
   ]
  },
  {
   "cell_type": "code",
   "execution_count": 16,
   "metadata": {},
   "outputs": [
    {
     "name": "stderr",
     "output_type": "stream",
     "text": [
      "C:\\Users\\Karthik\\AppData\\Local\\Temp\\ipykernel_20380\\2096708754.py:2: LangChainDeprecationWarning: The class `HuggingFaceEmbeddings` was deprecated in LangChain 0.2.2 and will be removed in 1.0. An updated version of the class exists in the langchain-huggingface package and should be used instead. To use it run `pip install -U langchain-huggingface` and import as `from langchain_huggingface import HuggingFaceEmbeddings`.\n",
      "  embeddings = HuggingFaceEmbeddings(model_name = \"sentence-transformers/all-MiniLM-L6-v2\")\n",
      "c:\\Users\\Karthik\\OneDrive\\Desktop\\medical chatbot\\env\\Lib\\site-packages\\transformers\\tokenization_utils_base.py:1601: FutureWarning: `clean_up_tokenization_spaces` was not set. It will be set to `True` by default. This behavior will be depracted in transformers v4.45, and will be then set to `False` by default. For more details check this issue: https://github.com/huggingface/transformers/issues/31884\n",
      "  warnings.warn(\n"
     ]
    }
   ],
   "source": [
    "embedding = download_hf_embeddings()"
   ]
  },
  {
   "cell_type": "code",
   "execution_count": 6,
   "metadata": {},
   "outputs": [
    {
     "data": {
      "text/plain": [
       "HuggingFaceEmbeddings(client=SentenceTransformer(\n",
       "  (0): Transformer({'max_seq_length': 256, 'do_lower_case': False}) with Transformer model: BertModel \n",
       "  (1): Pooling({'word_embedding_dimension': 384, 'pooling_mode_cls_token': False, 'pooling_mode_mean_tokens': True, 'pooling_mode_max_tokens': False, 'pooling_mode_mean_sqrt_len_tokens': False, 'pooling_mode_weightedmean_tokens': False, 'pooling_mode_lasttoken': False, 'include_prompt': True})\n",
       "  (2): Normalize()\n",
       "), model_name='sentence-transformers/all-MiniLM-L6-v2', cache_folder=None, model_kwargs={}, encode_kwargs={}, multi_process=False, show_progress=False)"
      ]
     },
     "execution_count": 6,
     "metadata": {},
     "output_type": "execute_result"
    }
   ],
   "source": [
    "embedding"
   ]
  },
  {
   "cell_type": "markdown",
   "metadata": {},
   "source": [
    "### Initialize Pinecone"
   ]
  },
  {
   "cell_type": "code",
   "execution_count": 17,
   "metadata": {},
   "outputs": [],
   "source": [
    "index_name = \"medical-chatbot\""
   ]
  },
  {
   "cell_type": "code",
   "execution_count": null,
   "metadata": {},
   "outputs": [],
   "source": [
    "docsearch = Pinecone.from_texts([t.page_content for t in text_chunks], embedding, index_name = index_name)"
   ]
  },
  {
   "cell_type": "code",
   "execution_count": 18,
   "metadata": {},
   "outputs": [
    {
     "name": "stdout",
     "output_type": "stream",
     "text": [
      "[Document(page_content='ORGANIZATIONS\\nAmerican Academy of Ophthalmology. 655 Beach Street, PO\\nBox 7424, San Francisco, CA 94120-7424. <http://www.eyenet.org>.KEY TERMS\\nAllergen —A substance capable of inducing an\\nallergic response.\\nAllergic reaction —An immune system reaction to\\na substance in the environment; symptomsinclude rash, inflammation, sneezing, itchy wateryeyes, and runny nose.\\nConjunctiva —The mucous membrane that covers\\nthe white part of the eyes and lines the eyelids.'), Document(page_content='Although environmental medicine is gaining more\\nrespect within conventional medicine, detoxificationKEY TERMS\\nAllergen —A foreign substance, such as mites in\\nhouse dust or animal dander, that wheninhaled,causes the airways to narrow and pro-duces symptoms of asthma.\\nAntibody —A protein, also called immunoglobu-\\nlin, produced by immune system cells to removeantigens (the foreign substances that trigger theimmune response).\\nFibromyalgia —A condition of debilitating pain,'), Document(page_content='among other symptoms, in the muscles and themyofascia (the thin connective tissue that sur-rounds muscles, bones, and organs).\\nHypersensitivity —The state where even a tiny\\namount of allergen can cause severe allergic reac-tions.\\nMultiple chemical sensitivity —A condition char-\\nacterized by severe and crippling allergic reac-tions to commonly used substances, particularlychemicals. Also called environmental illness.treatment is scarcely mentioned by the medical establish-')]\n"
     ]
    }
   ],
   "source": [
    "docsearch = Pinecone.from_existing_index(index_name, embedding)\n",
    "\n",
    "query = \"What are allergies?\"\n",
    "\n",
    "docs = docsearch.similarity_search(query, k = 3)\n",
    "\n",
    "print(docs)"
   ]
  },
  {
   "cell_type": "code",
   "execution_count": 22,
   "metadata": {},
   "outputs": [],
   "source": [
    "retriever = docsearch.as_retriever(search_type=\"similarity\", search_kwargs={\"k\": 6})"
   ]
  },
  {
   "cell_type": "code",
   "execution_count": 23,
   "metadata": {},
   "outputs": [
    {
     "data": {
      "text/plain": [
       "[Document(page_content='ORGANIZATIONS\\nAmerican Academy of Ophthalmology. 655 Beach Street, PO\\nBox 7424, San Francisco, CA 94120-7424. <http://www.eyenet.org>.KEY TERMS\\nAllergen —A substance capable of inducing an\\nallergic response.\\nAllergic reaction —An immune system reaction to\\na substance in the environment; symptomsinclude rash, inflammation, sneezing, itchy wateryeyes, and runny nose.\\nConjunctiva —The mucous membrane that covers\\nthe white part of the eyes and lines the eyelids.'),\n",
       " Document(page_content='Although environmental medicine is gaining more\\nrespect within conventional medicine, detoxificationKEY TERMS\\nAllergen —A foreign substance, such as mites in\\nhouse dust or animal dander, that wheninhaled,causes the airways to narrow and pro-duces symptoms of asthma.\\nAntibody —A protein, also called immunoglobu-\\nlin, produced by immune system cells to removeantigens (the foreign substances that trigger theimmune response).\\nFibromyalgia —A condition of debilitating pain,'),\n",
       " Document(page_content='repeated exposure to an allergen (an allergy-causing sub-stance) triggers an immune response that inflames theskin. Tens of thousands of drugs, pesticides, cosmetics,food additives, commercial chemicals, and other sub-stances have been identified as potential allergens. Fewerthan 30, however, are responsible the majority of ACDcases. Common culprits include poison ivy, poison oak,and poison sumac; fragrances and preservatives in cosmet-ics and personal care products; latex items such as'),\n",
       " Document(page_content='allergy and hypersensitivity tests. Intradermal (betweenlayers of the skin) and sublingual (under the tongue)allergy tests are used to determine a patient’s sensitivityto a variety of common substances, including formalde-hyde, auto exhaust, perfume, tobacco, chlorine, jet fuel,and other chemicals.\\nFood allergies require additional tests because these'),\n",
       " Document(page_content='the allergen or irritating substance and avoid further con-tact with it. If the culprit is, for instance, a cosmetic, avoid-ance is a simple matter, but in some situations, such as anallergy to an essential workplace chemical for which nosubstitute can be found, avoidance may be impossible orforce the sufferer to find new work or make other drasticchanges in his or her life. Barrier creams and protectiveclothing such as gloves, masks, and long-sleeved shirts areways of coping with contact'),\n",
       " Document(page_content='among other symptoms, in the muscles and themyofascia (the thin connective tissue that sur-rounds muscles, bones, and organs).\\nHypersensitivity —The state where even a tiny\\namount of allergen can cause severe allergic reac-tions.\\nMultiple chemical sensitivity —A condition char-\\nacterized by severe and crippling allergic reac-tions to commonly used substances, particularlychemicals. Also called environmental illness.treatment is scarcely mentioned by the medical establish-')]"
      ]
     },
     "execution_count": 23,
     "metadata": {},
     "output_type": "execute_result"
    }
   ],
   "source": [
    "retriever.invoke(\"What are allergens?\")"
   ]
  },
  {
   "cell_type": "code",
   "execution_count": 9,
   "metadata": {},
   "outputs": [
    {
     "name": "stderr",
     "output_type": "stream",
     "text": [
      "c:\\Users\\Karthik\\OneDrive\\Desktop\\medical chatbot\\env\\Lib\\site-packages\\langsmith\\client.py:312: LangSmithMissingAPIKeyWarning: API key must be provided when using hosted LangSmith API\n",
      "  warnings.warn(\n"
     ]
    }
   ],
   "source": [
    "from langchain import hub\n",
    "\n",
    "prompt = hub.pull(\"rlm/rag-prompt\")"
   ]
  },
  {
   "cell_type": "code",
   "execution_count": 10,
   "metadata": {},
   "outputs": [
    {
     "data": {
      "text/plain": [
       "ChatPromptTemplate(input_variables=['context', 'question'], metadata={'lc_hub_owner': 'rlm', 'lc_hub_repo': 'rag-prompt', 'lc_hub_commit_hash': '50442af133e61576e74536c6556cefe1fac147cad032f4377b60c436e6cdcb6e'}, messages=[HumanMessagePromptTemplate(prompt=PromptTemplate(input_variables=['context', 'question'], template=\"You are an assistant for question-answering tasks. Use the following pieces of retrieved context to answer the question. If you don't know the answer, just say that you don't know. Use three sentences maximum and keep the answer concise.\\nQuestion: {question} \\nContext: {context} \\nAnswer:\"))])"
      ]
     },
     "execution_count": 10,
     "metadata": {},
     "output_type": "execute_result"
    }
   ],
   "source": [
    "prompt"
   ]
  },
  {
   "cell_type": "markdown",
   "metadata": {},
   "source": [
    "### Loading the llama 3 model"
   ]
  },
  {
   "cell_type": "code",
   "execution_count": 39,
   "metadata": {},
   "outputs": [],
   "source": [
    "from langchain_ollama import ChatOllama\n",
    "\n",
    "local_llm = 'llama3.2'\n",
    "llm = ChatOllama(model=local_llm)"
   ]
  },
  {
   "cell_type": "code",
   "execution_count": 41,
   "metadata": {},
   "outputs": [
    {
     "name": "stdout",
     "output_type": "stream",
     "text": [
      "content=\"England does not have a capital city in the classical sense. The United Kingdom (UK) is made up of four countries: England, Scotland, Wales, and Northern Ireland.\\n\\nThe capital of England is often considered to be London, which is also the capital of the UK. However, this can be misleading as London is a global city that serves as the capital of multiple countries, including England, the UK, and the Commonwealth.\\n\\nIn practice, though, the capital of England is typically taken to be Birmingham or another major English city, but there isn't an official capital designated specifically for England.\" response_metadata={'model': 'llama3.2', 'created_at': '2024-10-04T08:38:53.2386198Z', 'message': {'role': 'assistant', 'content': ''}, 'done_reason': 'stop', 'done': True, 'total_duration': 14221404700, 'load_duration': 68159600, 'prompt_eval_count': 31, 'prompt_eval_duration': 167193000, 'eval_count': 120, 'eval_duration': 13951925000} id='run-785e2154-b8bb-47d8-b97b-92b39ae04f50-0' usage_metadata={'input_tokens': 31, 'output_tokens': 120, 'total_tokens': 151}\n"
     ]
    }
   ],
   "source": [
    "print(llm.invoke(\"What is the capital of England\"))"
   ]
  },
  {
   "cell_type": "code",
   "execution_count": 24,
   "metadata": {},
   "outputs": [
    {
     "name": "stdout",
     "output_type": "stream",
     "text": [
      "Here is a concise answer:\n",
      "\n",
      "Allergies are an immune system reaction to a substance in the environment that can cause symptoms such as rash, inflammation, sneezing, itchy watery eyes, and runny nose. Allergens are substances capable of inducing this reaction, which can be caused by exposure to foreign substances like dust mites or animal dander. Symptoms can range from mild to severe depending on the individual's sensitivity to the allergen."
     ]
    }
   ],
   "source": [
    "from langchain_core.output_parsers import StrOutputParser\n",
    "from langchain_core.runnables import RunnablePassthrough\n",
    "\n",
    "def format_docs(docs):\n",
    "    return \"\\n\\n\".join(doc.page_content for doc in docs)\n",
    "\n",
    "\n",
    "rag_chain = (\n",
    "    {\"context\": retriever | format_docs, \"question\": RunnablePassthrough()}\n",
    "    | prompt\n",
    "    | llm\n",
    "    | StrOutputParser()\n",
    ")\n",
    "\n",
    "for chunk in rag_chain.stream(\"What are allergies?\"):\n",
    "    print(chunk, end=\"\", flush=True)"
   ]
  },
  {
   "cell_type": "code",
   "execution_count": 25,
   "metadata": {},
   "outputs": [
    {
     "name": "stdout",
     "output_type": "stream",
     "text": [
      "I don't have information on cloud computing. The retrieved context appears to be unrelated to this topic. I don't know what cloud computing is."
     ]
    }
   ],
   "source": [
    "for chunk in rag_chain.stream(\"What is cloud computing?\"):\n",
    "    print(chunk, end=\"\", flush=True)"
   ]
  },
  {
   "cell_type": "code",
   "execution_count": 32,
   "metadata": {},
   "outputs": [],
   "source": [
    "op = rag_chain.stream(\"What are allergens?\")"
   ]
  },
  {
   "cell_type": "code",
   "execution_count": 33,
   "metadata": {},
   "outputs": [],
   "source": [
    "a = list(op)"
   ]
  },
  {
   "cell_type": "code",
   "execution_count": 34,
   "metadata": {},
   "outputs": [
    {
     "data": {
      "text/plain": [
       "['Here',\n",
       " ' is',\n",
       " ' a',\n",
       " ' ',\n",
       " '3',\n",
       " ' sentence',\n",
       " ' answer',\n",
       " ':\\n\\n',\n",
       " 'All',\n",
       " 'erg',\n",
       " 'ens',\n",
       " ' are',\n",
       " ' foreign',\n",
       " ' substances',\n",
       " ' that',\n",
       " ' can',\n",
       " ' induce',\n",
       " ' an',\n",
       " ' allergic',\n",
       " ' response',\n",
       " ' in',\n",
       " ' the',\n",
       " ' body',\n",
       " ',',\n",
       " ' such',\n",
       " ' as',\n",
       " ' m',\n",
       " 'ites',\n",
       " ' in',\n",
       " ' house',\n",
       " ' dust',\n",
       " ' or',\n",
       " ' animal',\n",
       " ' d',\n",
       " 'ander',\n",
       " '.',\n",
       " ' These',\n",
       " ' substances',\n",
       " ' trigger',\n",
       " ' an',\n",
       " ' immune',\n",
       " ' response',\n",
       " ' that',\n",
       " ' infl',\n",
       " 'ames',\n",
       " ' the',\n",
       " ' skin',\n",
       " ' and',\n",
       " ' causes',\n",
       " ' symptoms',\n",
       " ' like',\n",
       " ' rash',\n",
       " ',',\n",
       " ' inflammation',\n",
       " ',',\n",
       " ' sne',\n",
       " 'ez',\n",
       " 'ing',\n",
       " ',',\n",
       " ' it',\n",
       " 'chy',\n",
       " ' wat',\n",
       " 'ery',\n",
       " ' eyes',\n",
       " ',',\n",
       " ' and',\n",
       " ' run',\n",
       " 'ny',\n",
       " ' nose',\n",
       " '.',\n",
       " ' Common',\n",
       " ' allerg',\n",
       " 'ens',\n",
       " ' include',\n",
       " ' poison',\n",
       " ' iv',\n",
       " 'y',\n",
       " ',',\n",
       " ' frag',\n",
       " 'rances',\n",
       " ',',\n",
       " ' pres',\n",
       " 'ervatives',\n",
       " ',',\n",
       " ' latex',\n",
       " ' items',\n",
       " ',',\n",
       " ' and',\n",
       " ' certain',\n",
       " ' chemicals',\n",
       " ' and',\n",
       " ' food',\n",
       " ' additives',\n",
       " '.',\n",
       " '']"
      ]
     },
     "execution_count": 34,
     "metadata": {},
     "output_type": "execute_result"
    }
   ],
   "source": [
    "a"
   ]
  },
  {
   "cell_type": "code",
   "execution_count": 35,
   "metadata": {},
   "outputs": [
    {
     "data": {
      "text/plain": [
       "'Here is a 3 sentence answer:\\n\\nAllergens are foreign substances that can induce an allergic response in the body, such as mites in house dust or animal dander. These substances trigger an immune response that inflames the skin and causes symptoms like rash, inflammation, sneezing, itchy watery eyes, and runny nose. Common allergens include poison ivy, fragrances, preservatives, latex items, and certain chemicals and food additives.'"
      ]
     },
     "execution_count": 35,
     "metadata": {},
     "output_type": "execute_result"
    }
   ],
   "source": [
    "''.join(a)"
   ]
  },
  {
   "cell_type": "code",
   "execution_count": null,
   "metadata": {},
   "outputs": [],
   "source": []
  }
 ],
 "metadata": {
  "kernelspec": {
   "display_name": "Python 3",
   "language": "python",
   "name": "python3"
  },
  "language_info": {
   "codemirror_mode": {
    "name": "ipython",
    "version": 3
   },
   "file_extension": ".py",
   "mimetype": "text/x-python",
   "name": "python",
   "nbconvert_exporter": "python",
   "pygments_lexer": "ipython3",
   "version": "3.11.9"
  }
 },
 "nbformat": 4,
 "nbformat_minor": 2
}
